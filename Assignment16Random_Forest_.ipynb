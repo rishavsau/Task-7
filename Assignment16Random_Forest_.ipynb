{
 "cells": [
  {
   "cell_type": "markdown",
   "metadata": {
    "id": "4m9w02adU9Rx"
   },
   "source": [
    "#**RANDOM FOREST MODEL**"
   ]
  },
  {
   "cell_type": "markdown",
   "metadata": {
    "id": "sgTgwccsk5Yu"
   },
   "source": [
    "**Step 1 | Data Pre-Processing**"
   ]
  },
  {
   "cell_type": "markdown",
   "metadata": {
    "id": "bKWN0MOblEKa"
   },
   "source": [
    "**Importing the Libraries**"
   ]
  },
  {
   "cell_type": "code",
   "execution_count": 1,
   "metadata": {
    "id": "8cIjONoJj8u0"
   },
   "outputs": [],
   "source": [
    "import pandas as pd \n",
    "import matplotlib.pyplot as plt\n",
    "import seaborn as sns\n",
    "import numpy as np\n",
    "from sklearn.neighbors import KNeighborsClassifier, KNeighborsRegressor\n",
    "#from sklearn import datasets, neighbors\n",
    "from sklearn.linear_model import LogisticRegression\n",
    "from mlxtend.plotting import plot_decision_regions\n",
    "from sklearn.model_selection import cross_val_score # import all the functions reqd for cross validation\n",
    "from sklearn.model_selection import train_test_split\n",
    "from sklearn.metrics import roc_auc_score"
   ]
  },
  {
   "cell_type": "markdown",
   "metadata": {
    "id": "bM9O8a0YlNWk"
   },
   "source": [
    "**Importing the dataset**"
   ]
  },
  {
   "cell_type": "code",
   "execution_count": 2,
   "metadata": {
    "colab": {
     "base_uri": "https://localhost:8080/",
     "height": 206
    },
    "id": "2QZwg6ypj8xs",
    "outputId": "ce20a80b-eba8-4d5a-c963-cf9a33978651"
   },
   "outputs": [
    {
     "data": {
      "text/html": [
       "\n",
       "  <div id=\"df-9d36bddf-43ba-4c43-860c-a4b341bf6e46\">\n",
       "    <div class=\"colab-df-container\">\n",
       "      <div>\n",
       "<style scoped>\n",
       "    .dataframe tbody tr th:only-of-type {\n",
       "        vertical-align: middle;\n",
       "    }\n",
       "\n",
       "    .dataframe tbody tr th {\n",
       "        vertical-align: top;\n",
       "    }\n",
       "\n",
       "    .dataframe thead th {\n",
       "        text-align: right;\n",
       "    }\n",
       "</style>\n",
       "<table border=\"1\" class=\"dataframe\">\n",
       "  <thead>\n",
       "    <tr style=\"text-align: right;\">\n",
       "      <th></th>\n",
       "      <th>User ID</th>\n",
       "      <th>Gender</th>\n",
       "      <th>Age</th>\n",
       "      <th>EstimatedSalary</th>\n",
       "      <th>Purchased</th>\n",
       "    </tr>\n",
       "  </thead>\n",
       "  <tbody>\n",
       "    <tr>\n",
       "      <th>0</th>\n",
       "      <td>15624510</td>\n",
       "      <td>Male</td>\n",
       "      <td>19</td>\n",
       "      <td>19000</td>\n",
       "      <td>0</td>\n",
       "    </tr>\n",
       "    <tr>\n",
       "      <th>1</th>\n",
       "      <td>15810944</td>\n",
       "      <td>Male</td>\n",
       "      <td>35</td>\n",
       "      <td>20000</td>\n",
       "      <td>0</td>\n",
       "    </tr>\n",
       "    <tr>\n",
       "      <th>2</th>\n",
       "      <td>15668575</td>\n",
       "      <td>Female</td>\n",
       "      <td>26</td>\n",
       "      <td>43000</td>\n",
       "      <td>0</td>\n",
       "    </tr>\n",
       "    <tr>\n",
       "      <th>3</th>\n",
       "      <td>15603246</td>\n",
       "      <td>Female</td>\n",
       "      <td>27</td>\n",
       "      <td>57000</td>\n",
       "      <td>0</td>\n",
       "    </tr>\n",
       "    <tr>\n",
       "      <th>4</th>\n",
       "      <td>15804002</td>\n",
       "      <td>Male</td>\n",
       "      <td>19</td>\n",
       "      <td>76000</td>\n",
       "      <td>0</td>\n",
       "    </tr>\n",
       "  </tbody>\n",
       "</table>\n",
       "</div>\n",
       "      <button class=\"colab-df-convert\" onclick=\"convertToInteractive('df-9d36bddf-43ba-4c43-860c-a4b341bf6e46')\"\n",
       "              title=\"Convert this dataframe to an interactive table.\"\n",
       "              style=\"display:none;\">\n",
       "        \n",
       "  <svg xmlns=\"http://www.w3.org/2000/svg\" height=\"24px\"viewBox=\"0 0 24 24\"\n",
       "       width=\"24px\">\n",
       "    <path d=\"M0 0h24v24H0V0z\" fill=\"none\"/>\n",
       "    <path d=\"M18.56 5.44l.94 2.06.94-2.06 2.06-.94-2.06-.94-.94-2.06-.94 2.06-2.06.94zm-11 1L8.5 8.5l.94-2.06 2.06-.94-2.06-.94L8.5 2.5l-.94 2.06-2.06.94zm10 10l.94 2.06.94-2.06 2.06-.94-2.06-.94-.94-2.06-.94 2.06-2.06.94z\"/><path d=\"M17.41 7.96l-1.37-1.37c-.4-.4-.92-.59-1.43-.59-.52 0-1.04.2-1.43.59L10.3 9.45l-7.72 7.72c-.78.78-.78 2.05 0 2.83L4 21.41c.39.39.9.59 1.41.59.51 0 1.02-.2 1.41-.59l7.78-7.78 2.81-2.81c.8-.78.8-2.07 0-2.86zM5.41 20L4 18.59l7.72-7.72 1.47 1.35L5.41 20z\"/>\n",
       "  </svg>\n",
       "      </button>\n",
       "      \n",
       "  <style>\n",
       "    .colab-df-container {\n",
       "      display:flex;\n",
       "      flex-wrap:wrap;\n",
       "      gap: 12px;\n",
       "    }\n",
       "\n",
       "    .colab-df-convert {\n",
       "      background-color: #E8F0FE;\n",
       "      border: none;\n",
       "      border-radius: 50%;\n",
       "      cursor: pointer;\n",
       "      display: none;\n",
       "      fill: #1967D2;\n",
       "      height: 32px;\n",
       "      padding: 0 0 0 0;\n",
       "      width: 32px;\n",
       "    }\n",
       "\n",
       "    .colab-df-convert:hover {\n",
       "      background-color: #E2EBFA;\n",
       "      box-shadow: 0px 1px 2px rgba(60, 64, 67, 0.3), 0px 1px 3px 1px rgba(60, 64, 67, 0.15);\n",
       "      fill: #174EA6;\n",
       "    }\n",
       "\n",
       "    [theme=dark] .colab-df-convert {\n",
       "      background-color: #3B4455;\n",
       "      fill: #D2E3FC;\n",
       "    }\n",
       "\n",
       "    [theme=dark] .colab-df-convert:hover {\n",
       "      background-color: #434B5C;\n",
       "      box-shadow: 0px 1px 3px 1px rgba(0, 0, 0, 0.15);\n",
       "      filter: drop-shadow(0px 1px 2px rgba(0, 0, 0, 0.3));\n",
       "      fill: #FFFFFF;\n",
       "    }\n",
       "  </style>\n",
       "\n",
       "      <script>\n",
       "        const buttonEl =\n",
       "          document.querySelector('#df-9d36bddf-43ba-4c43-860c-a4b341bf6e46 button.colab-df-convert');\n",
       "        buttonEl.style.display =\n",
       "          google.colab.kernel.accessAllowed ? 'block' : 'none';\n",
       "\n",
       "        async function convertToInteractive(key) {\n",
       "          const element = document.querySelector('#df-9d36bddf-43ba-4c43-860c-a4b341bf6e46');\n",
       "          const dataTable =\n",
       "            await google.colab.kernel.invokeFunction('convertToInteractive',\n",
       "                                                     [key], {});\n",
       "          if (!dataTable) return;\n",
       "\n",
       "          const docLinkHtml = 'Like what you see? Visit the ' +\n",
       "            '<a target=\"_blank\" href=https://colab.research.google.com/notebooks/data_table.ipynb>data table notebook</a>'\n",
       "            + ' to learn more about interactive tables.';\n",
       "          element.innerHTML = '';\n",
       "          dataTable['output_type'] = 'display_data';\n",
       "          await google.colab.output.renderOutput(dataTable, element);\n",
       "          const docLink = document.createElement('div');\n",
       "          docLink.innerHTML = docLinkHtml;\n",
       "          element.appendChild(docLink);\n",
       "        }\n",
       "      </script>\n",
       "    </div>\n",
       "  </div>\n",
       "  "
      ],
      "text/plain": [
       "    User ID  Gender  Age  EstimatedSalary  Purchased\n",
       "0  15624510    Male   19            19000          0\n",
       "1  15810944    Male   35            20000          0\n",
       "2  15668575  Female   26            43000          0\n",
       "3  15603246  Female   27            57000          0\n",
       "4  15804002    Male   19            76000          0"
      ]
     },
     "execution_count": 2,
     "metadata": {},
     "output_type": "execute_result"
    }
   ],
   "source": [
    "df = pd.read_csv('Social_Network_Ads.csv')\n",
    "df.head()"
   ]
  },
  {
   "cell_type": "code",
   "execution_count": 3,
   "metadata": {
    "colab": {
     "base_uri": "https://localhost:8080/"
    },
    "id": "vfPLWJHRlM-4",
    "outputId": "b17b696e-26b8-4ed7-c916-47dd108fb5e7"
   },
   "outputs": [
    {
     "data": {
      "text/plain": [
       "(400, 5)"
      ]
     },
     "execution_count": 3,
     "metadata": {},
     "output_type": "execute_result"
    }
   ],
   "source": [
    "df.shape"
   ]
  },
  {
   "cell_type": "code",
   "execution_count": 4,
   "metadata": {
    "colab": {
     "base_uri": "https://localhost:8080/",
     "height": 175
    },
    "id": "8LWipIjDj7yn",
    "outputId": "23bea2e7-9aca-41ff-f68f-89e8c3f9baa2"
   },
   "outputs": [
    {
     "data": {
      "text/html": [
       "\n",
       "  <div id=\"df-a1344b29-9c7e-4db1-b5ae-e42f48599041\">\n",
       "    <div class=\"colab-df-container\">\n",
       "      <div>\n",
       "<style scoped>\n",
       "    .dataframe tbody tr th:only-of-type {\n",
       "        vertical-align: middle;\n",
       "    }\n",
       "\n",
       "    .dataframe tbody tr th {\n",
       "        vertical-align: top;\n",
       "    }\n",
       "\n",
       "    .dataframe thead th {\n",
       "        text-align: right;\n",
       "    }\n",
       "</style>\n",
       "<table border=\"1\" class=\"dataframe\">\n",
       "  <thead>\n",
       "    <tr style=\"text-align: right;\">\n",
       "      <th></th>\n",
       "      <th>count</th>\n",
       "      <th>mean</th>\n",
       "      <th>std</th>\n",
       "      <th>min</th>\n",
       "      <th>25%</th>\n",
       "      <th>50%</th>\n",
       "      <th>75%</th>\n",
       "      <th>max</th>\n",
       "    </tr>\n",
       "  </thead>\n",
       "  <tbody>\n",
       "    <tr>\n",
       "      <th>User ID</th>\n",
       "      <td>400.0</td>\n",
       "      <td>1.569154e+07</td>\n",
       "      <td>71658.321581</td>\n",
       "      <td>15566689.0</td>\n",
       "      <td>15626763.75</td>\n",
       "      <td>15694341.5</td>\n",
       "      <td>15750363.0</td>\n",
       "      <td>15815236.0</td>\n",
       "    </tr>\n",
       "    <tr>\n",
       "      <th>Age</th>\n",
       "      <td>400.0</td>\n",
       "      <td>3.765500e+01</td>\n",
       "      <td>10.482877</td>\n",
       "      <td>18.0</td>\n",
       "      <td>29.75</td>\n",
       "      <td>37.0</td>\n",
       "      <td>46.0</td>\n",
       "      <td>60.0</td>\n",
       "    </tr>\n",
       "    <tr>\n",
       "      <th>EstimatedSalary</th>\n",
       "      <td>400.0</td>\n",
       "      <td>6.974250e+04</td>\n",
       "      <td>34096.960282</td>\n",
       "      <td>15000.0</td>\n",
       "      <td>43000.00</td>\n",
       "      <td>70000.0</td>\n",
       "      <td>88000.0</td>\n",
       "      <td>150000.0</td>\n",
       "    </tr>\n",
       "    <tr>\n",
       "      <th>Purchased</th>\n",
       "      <td>400.0</td>\n",
       "      <td>3.575000e-01</td>\n",
       "      <td>0.479864</td>\n",
       "      <td>0.0</td>\n",
       "      <td>0.00</td>\n",
       "      <td>0.0</td>\n",
       "      <td>1.0</td>\n",
       "      <td>1.0</td>\n",
       "    </tr>\n",
       "  </tbody>\n",
       "</table>\n",
       "</div>\n",
       "      <button class=\"colab-df-convert\" onclick=\"convertToInteractive('df-a1344b29-9c7e-4db1-b5ae-e42f48599041')\"\n",
       "              title=\"Convert this dataframe to an interactive table.\"\n",
       "              style=\"display:none;\">\n",
       "        \n",
       "  <svg xmlns=\"http://www.w3.org/2000/svg\" height=\"24px\"viewBox=\"0 0 24 24\"\n",
       "       width=\"24px\">\n",
       "    <path d=\"M0 0h24v24H0V0z\" fill=\"none\"/>\n",
       "    <path d=\"M18.56 5.44l.94 2.06.94-2.06 2.06-.94-2.06-.94-.94-2.06-.94 2.06-2.06.94zm-11 1L8.5 8.5l.94-2.06 2.06-.94-2.06-.94L8.5 2.5l-.94 2.06-2.06.94zm10 10l.94 2.06.94-2.06 2.06-.94-2.06-.94-.94-2.06-.94 2.06-2.06.94z\"/><path d=\"M17.41 7.96l-1.37-1.37c-.4-.4-.92-.59-1.43-.59-.52 0-1.04.2-1.43.59L10.3 9.45l-7.72 7.72c-.78.78-.78 2.05 0 2.83L4 21.41c.39.39.9.59 1.41.59.51 0 1.02-.2 1.41-.59l7.78-7.78 2.81-2.81c.8-.78.8-2.07 0-2.86zM5.41 20L4 18.59l7.72-7.72 1.47 1.35L5.41 20z\"/>\n",
       "  </svg>\n",
       "      </button>\n",
       "      \n",
       "  <style>\n",
       "    .colab-df-container {\n",
       "      display:flex;\n",
       "      flex-wrap:wrap;\n",
       "      gap: 12px;\n",
       "    }\n",
       "\n",
       "    .colab-df-convert {\n",
       "      background-color: #E8F0FE;\n",
       "      border: none;\n",
       "      border-radius: 50%;\n",
       "      cursor: pointer;\n",
       "      display: none;\n",
       "      fill: #1967D2;\n",
       "      height: 32px;\n",
       "      padding: 0 0 0 0;\n",
       "      width: 32px;\n",
       "    }\n",
       "\n",
       "    .colab-df-convert:hover {\n",
       "      background-color: #E2EBFA;\n",
       "      box-shadow: 0px 1px 2px rgba(60, 64, 67, 0.3), 0px 1px 3px 1px rgba(60, 64, 67, 0.15);\n",
       "      fill: #174EA6;\n",
       "    }\n",
       "\n",
       "    [theme=dark] .colab-df-convert {\n",
       "      background-color: #3B4455;\n",
       "      fill: #D2E3FC;\n",
       "    }\n",
       "\n",
       "    [theme=dark] .colab-df-convert:hover {\n",
       "      background-color: #434B5C;\n",
       "      box-shadow: 0px 1px 3px 1px rgba(0, 0, 0, 0.15);\n",
       "      filter: drop-shadow(0px 1px 2px rgba(0, 0, 0, 0.3));\n",
       "      fill: #FFFFFF;\n",
       "    }\n",
       "  </style>\n",
       "\n",
       "      <script>\n",
       "        const buttonEl =\n",
       "          document.querySelector('#df-a1344b29-9c7e-4db1-b5ae-e42f48599041 button.colab-df-convert');\n",
       "        buttonEl.style.display =\n",
       "          google.colab.kernel.accessAllowed ? 'block' : 'none';\n",
       "\n",
       "        async function convertToInteractive(key) {\n",
       "          const element = document.querySelector('#df-a1344b29-9c7e-4db1-b5ae-e42f48599041');\n",
       "          const dataTable =\n",
       "            await google.colab.kernel.invokeFunction('convertToInteractive',\n",
       "                                                     [key], {});\n",
       "          if (!dataTable) return;\n",
       "\n",
       "          const docLinkHtml = 'Like what you see? Visit the ' +\n",
       "            '<a target=\"_blank\" href=https://colab.research.google.com/notebooks/data_table.ipynb>data table notebook</a>'\n",
       "            + ' to learn more about interactive tables.';\n",
       "          element.innerHTML = '';\n",
       "          dataTable['output_type'] = 'display_data';\n",
       "          await google.colab.output.renderOutput(dataTable, element);\n",
       "          const docLink = document.createElement('div');\n",
       "          docLink.innerHTML = docLinkHtml;\n",
       "          element.appendChild(docLink);\n",
       "        }\n",
       "      </script>\n",
       "    </div>\n",
       "  </div>\n",
       "  "
      ],
      "text/plain": [
       "                 count          mean           std         min          25%  \\\n",
       "User ID          400.0  1.569154e+07  71658.321581  15566689.0  15626763.75   \n",
       "Age              400.0  3.765500e+01     10.482877        18.0        29.75   \n",
       "EstimatedSalary  400.0  6.974250e+04  34096.960282     15000.0     43000.00   \n",
       "Purchased        400.0  3.575000e-01      0.479864         0.0         0.00   \n",
       "\n",
       "                        50%         75%         max  \n",
       "User ID          15694341.5  15750363.0  15815236.0  \n",
       "Age                    37.0        46.0        60.0  \n",
       "EstimatedSalary     70000.0     88000.0    150000.0  \n",
       "Purchased               0.0         1.0         1.0  "
      ]
     },
     "execution_count": 4,
     "metadata": {},
     "output_type": "execute_result"
    }
   ],
   "source": [
    "df.describe().T"
   ]
  },
  {
   "cell_type": "code",
   "execution_count": 5,
   "metadata": {
    "colab": {
     "base_uri": "https://localhost:8080/"
    },
    "id": "ChH4L4K5lTad",
    "outputId": "059071f6-1e32-41f0-ff5e-28b4af3b64c7"
   },
   "outputs": [
    {
     "name": "stdout",
     "output_type": "stream",
     "text": [
      "<class 'pandas.core.frame.DataFrame'>\n",
      "RangeIndex: 400 entries, 0 to 399\n",
      "Data columns (total 5 columns):\n",
      " #   Column           Non-Null Count  Dtype \n",
      "---  ------           --------------  ----- \n",
      " 0   User ID          400 non-null    int64 \n",
      " 1   Gender           400 non-null    object\n",
      " 2   Age              400 non-null    int64 \n",
      " 3   EstimatedSalary  400 non-null    int64 \n",
      " 4   Purchased        400 non-null    int64 \n",
      "dtypes: int64(4), object(1)\n",
      "memory usage: 15.8+ KB\n"
     ]
    }
   ],
   "source": [
    "df.info()"
   ]
  },
  {
   "cell_type": "code",
   "execution_count": 6,
   "metadata": {
    "colab": {
     "base_uri": "https://localhost:8080/"
    },
    "id": "KyVzL_NzlaeI",
    "outputId": "0063341f-6ed8-42c9-c938-dea6721600b7"
   },
   "outputs": [
    {
     "data": {
      "text/plain": [
       "User ID            0\n",
       "Gender             0\n",
       "Age                0\n",
       "EstimatedSalary    0\n",
       "Purchased          0\n",
       "dtype: int64"
      ]
     },
     "execution_count": 6,
     "metadata": {},
     "output_type": "execute_result"
    }
   ],
   "source": [
    "df.isnull().sum()"
   ]
  },
  {
   "cell_type": "code",
   "execution_count": 7,
   "metadata": {
    "colab": {
     "base_uri": "https://localhost:8080/",
     "height": 206
    },
    "id": "ue9SzPnzChGN",
    "outputId": "88ef2063-a95b-4023-ed8f-008fc30d6868"
   },
   "outputs": [
    {
     "data": {
      "text/html": [
       "\n",
       "  <div id=\"df-c46f7e0d-65dc-4b68-b055-15a01f49fb7c\">\n",
       "    <div class=\"colab-df-container\">\n",
       "      <div>\n",
       "<style scoped>\n",
       "    .dataframe tbody tr th:only-of-type {\n",
       "        vertical-align: middle;\n",
       "    }\n",
       "\n",
       "    .dataframe tbody tr th {\n",
       "        vertical-align: top;\n",
       "    }\n",
       "\n",
       "    .dataframe thead th {\n",
       "        text-align: right;\n",
       "    }\n",
       "</style>\n",
       "<table border=\"1\" class=\"dataframe\">\n",
       "  <thead>\n",
       "    <tr style=\"text-align: right;\">\n",
       "      <th></th>\n",
       "      <th>Variable</th>\n",
       "      <th>DistinctCount</th>\n",
       "    </tr>\n",
       "  </thead>\n",
       "  <tbody>\n",
       "    <tr>\n",
       "      <th>0</th>\n",
       "      <td>User ID</td>\n",
       "      <td>400</td>\n",
       "    </tr>\n",
       "    <tr>\n",
       "      <th>1</th>\n",
       "      <td>Gender</td>\n",
       "      <td>2</td>\n",
       "    </tr>\n",
       "    <tr>\n",
       "      <th>2</th>\n",
       "      <td>Age</td>\n",
       "      <td>43</td>\n",
       "    </tr>\n",
       "    <tr>\n",
       "      <th>3</th>\n",
       "      <td>EstimatedSalary</td>\n",
       "      <td>117</td>\n",
       "    </tr>\n",
       "    <tr>\n",
       "      <th>4</th>\n",
       "      <td>Purchased</td>\n",
       "      <td>2</td>\n",
       "    </tr>\n",
       "  </tbody>\n",
       "</table>\n",
       "</div>\n",
       "      <button class=\"colab-df-convert\" onclick=\"convertToInteractive('df-c46f7e0d-65dc-4b68-b055-15a01f49fb7c')\"\n",
       "              title=\"Convert this dataframe to an interactive table.\"\n",
       "              style=\"display:none;\">\n",
       "        \n",
       "  <svg xmlns=\"http://www.w3.org/2000/svg\" height=\"24px\"viewBox=\"0 0 24 24\"\n",
       "       width=\"24px\">\n",
       "    <path d=\"M0 0h24v24H0V0z\" fill=\"none\"/>\n",
       "    <path d=\"M18.56 5.44l.94 2.06.94-2.06 2.06-.94-2.06-.94-.94-2.06-.94 2.06-2.06.94zm-11 1L8.5 8.5l.94-2.06 2.06-.94-2.06-.94L8.5 2.5l-.94 2.06-2.06.94zm10 10l.94 2.06.94-2.06 2.06-.94-2.06-.94-.94-2.06-.94 2.06-2.06.94z\"/><path d=\"M17.41 7.96l-1.37-1.37c-.4-.4-.92-.59-1.43-.59-.52 0-1.04.2-1.43.59L10.3 9.45l-7.72 7.72c-.78.78-.78 2.05 0 2.83L4 21.41c.39.39.9.59 1.41.59.51 0 1.02-.2 1.41-.59l7.78-7.78 2.81-2.81c.8-.78.8-2.07 0-2.86zM5.41 20L4 18.59l7.72-7.72 1.47 1.35L5.41 20z\"/>\n",
       "  </svg>\n",
       "      </button>\n",
       "      \n",
       "  <style>\n",
       "    .colab-df-container {\n",
       "      display:flex;\n",
       "      flex-wrap:wrap;\n",
       "      gap: 12px;\n",
       "    }\n",
       "\n",
       "    .colab-df-convert {\n",
       "      background-color: #E8F0FE;\n",
       "      border: none;\n",
       "      border-radius: 50%;\n",
       "      cursor: pointer;\n",
       "      display: none;\n",
       "      fill: #1967D2;\n",
       "      height: 32px;\n",
       "      padding: 0 0 0 0;\n",
       "      width: 32px;\n",
       "    }\n",
       "\n",
       "    .colab-df-convert:hover {\n",
       "      background-color: #E2EBFA;\n",
       "      box-shadow: 0px 1px 2px rgba(60, 64, 67, 0.3), 0px 1px 3px 1px rgba(60, 64, 67, 0.15);\n",
       "      fill: #174EA6;\n",
       "    }\n",
       "\n",
       "    [theme=dark] .colab-df-convert {\n",
       "      background-color: #3B4455;\n",
       "      fill: #D2E3FC;\n",
       "    }\n",
       "\n",
       "    [theme=dark] .colab-df-convert:hover {\n",
       "      background-color: #434B5C;\n",
       "      box-shadow: 0px 1px 3px 1px rgba(0, 0, 0, 0.15);\n",
       "      filter: drop-shadow(0px 1px 2px rgba(0, 0, 0, 0.3));\n",
       "      fill: #FFFFFF;\n",
       "    }\n",
       "  </style>\n",
       "\n",
       "      <script>\n",
       "        const buttonEl =\n",
       "          document.querySelector('#df-c46f7e0d-65dc-4b68-b055-15a01f49fb7c button.colab-df-convert');\n",
       "        buttonEl.style.display =\n",
       "          google.colab.kernel.accessAllowed ? 'block' : 'none';\n",
       "\n",
       "        async function convertToInteractive(key) {\n",
       "          const element = document.querySelector('#df-c46f7e0d-65dc-4b68-b055-15a01f49fb7c');\n",
       "          const dataTable =\n",
       "            await google.colab.kernel.invokeFunction('convertToInteractive',\n",
       "                                                     [key], {});\n",
       "          if (!dataTable) return;\n",
       "\n",
       "          const docLinkHtml = 'Like what you see? Visit the ' +\n",
       "            '<a target=\"_blank\" href=https://colab.research.google.com/notebooks/data_table.ipynb>data table notebook</a>'\n",
       "            + ' to learn more about interactive tables.';\n",
       "          element.innerHTML = '';\n",
       "          dataTable['output_type'] = 'display_data';\n",
       "          await google.colab.output.renderOutput(dataTable, element);\n",
       "          const docLink = document.createElement('div');\n",
       "          docLink.innerHTML = docLinkHtml;\n",
       "          element.appendChild(docLink);\n",
       "        }\n",
       "      </script>\n",
       "    </div>\n",
       "  </div>\n",
       "  "
      ],
      "text/plain": [
       "          Variable  DistinctCount\n",
       "0          User ID            400\n",
       "1           Gender              2\n",
       "2              Age             43\n",
       "3  EstimatedSalary            117\n",
       "4        Purchased              2"
      ]
     },
     "execution_count": 7,
     "metadata": {},
     "output_type": "execute_result"
    }
   ],
   "source": [
    "#unique values in each column\n",
    "df_unique = df.nunique().to_frame().reset_index()\n",
    "df_unique.columns = ['Variable','DistinctCount']\n",
    "df_unique"
   ]
  },
  {
   "cell_type": "markdown",
   "metadata": {
    "id": "V4sUPvYHC9wH"
   },
   "source": [
    "Dropping the `User ID` column."
   ]
  },
  {
   "cell_type": "code",
   "execution_count": 8,
   "metadata": {
    "id": "zxWS12e9Dm37"
   },
   "outputs": [],
   "source": [
    "df=df.drop(['User ID'], axis=1)"
   ]
  },
  {
   "cell_type": "code",
   "execution_count": 9,
   "metadata": {
    "colab": {
     "base_uri": "https://localhost:8080/",
     "height": 206
    },
    "id": "dnMmoVMJDtE1",
    "outputId": "a961eb88-6c09-4c36-bed6-99be9a5e612b"
   },
   "outputs": [
    {
     "data": {
      "text/html": [
       "\n",
       "  <div id=\"df-bce3f8e0-349a-42ce-a0e5-dc3096b71583\">\n",
       "    <div class=\"colab-df-container\">\n",
       "      <div>\n",
       "<style scoped>\n",
       "    .dataframe tbody tr th:only-of-type {\n",
       "        vertical-align: middle;\n",
       "    }\n",
       "\n",
       "    .dataframe tbody tr th {\n",
       "        vertical-align: top;\n",
       "    }\n",
       "\n",
       "    .dataframe thead th {\n",
       "        text-align: right;\n",
       "    }\n",
       "</style>\n",
       "<table border=\"1\" class=\"dataframe\">\n",
       "  <thead>\n",
       "    <tr style=\"text-align: right;\">\n",
       "      <th></th>\n",
       "      <th>Gender</th>\n",
       "      <th>Age</th>\n",
       "      <th>EstimatedSalary</th>\n",
       "      <th>Purchased</th>\n",
       "    </tr>\n",
       "  </thead>\n",
       "  <tbody>\n",
       "    <tr>\n",
       "      <th>0</th>\n",
       "      <td>Male</td>\n",
       "      <td>19</td>\n",
       "      <td>19000</td>\n",
       "      <td>0</td>\n",
       "    </tr>\n",
       "    <tr>\n",
       "      <th>1</th>\n",
       "      <td>Male</td>\n",
       "      <td>35</td>\n",
       "      <td>20000</td>\n",
       "      <td>0</td>\n",
       "    </tr>\n",
       "    <tr>\n",
       "      <th>2</th>\n",
       "      <td>Female</td>\n",
       "      <td>26</td>\n",
       "      <td>43000</td>\n",
       "      <td>0</td>\n",
       "    </tr>\n",
       "    <tr>\n",
       "      <th>3</th>\n",
       "      <td>Female</td>\n",
       "      <td>27</td>\n",
       "      <td>57000</td>\n",
       "      <td>0</td>\n",
       "    </tr>\n",
       "    <tr>\n",
       "      <th>4</th>\n",
       "      <td>Male</td>\n",
       "      <td>19</td>\n",
       "      <td>76000</td>\n",
       "      <td>0</td>\n",
       "    </tr>\n",
       "  </tbody>\n",
       "</table>\n",
       "</div>\n",
       "      <button class=\"colab-df-convert\" onclick=\"convertToInteractive('df-bce3f8e0-349a-42ce-a0e5-dc3096b71583')\"\n",
       "              title=\"Convert this dataframe to an interactive table.\"\n",
       "              style=\"display:none;\">\n",
       "        \n",
       "  <svg xmlns=\"http://www.w3.org/2000/svg\" height=\"24px\"viewBox=\"0 0 24 24\"\n",
       "       width=\"24px\">\n",
       "    <path d=\"M0 0h24v24H0V0z\" fill=\"none\"/>\n",
       "    <path d=\"M18.56 5.44l.94 2.06.94-2.06 2.06-.94-2.06-.94-.94-2.06-.94 2.06-2.06.94zm-11 1L8.5 8.5l.94-2.06 2.06-.94-2.06-.94L8.5 2.5l-.94 2.06-2.06.94zm10 10l.94 2.06.94-2.06 2.06-.94-2.06-.94-.94-2.06-.94 2.06-2.06.94z\"/><path d=\"M17.41 7.96l-1.37-1.37c-.4-.4-.92-.59-1.43-.59-.52 0-1.04.2-1.43.59L10.3 9.45l-7.72 7.72c-.78.78-.78 2.05 0 2.83L4 21.41c.39.39.9.59 1.41.59.51 0 1.02-.2 1.41-.59l7.78-7.78 2.81-2.81c.8-.78.8-2.07 0-2.86zM5.41 20L4 18.59l7.72-7.72 1.47 1.35L5.41 20z\"/>\n",
       "  </svg>\n",
       "      </button>\n",
       "      \n",
       "  <style>\n",
       "    .colab-df-container {\n",
       "      display:flex;\n",
       "      flex-wrap:wrap;\n",
       "      gap: 12px;\n",
       "    }\n",
       "\n",
       "    .colab-df-convert {\n",
       "      background-color: #E8F0FE;\n",
       "      border: none;\n",
       "      border-radius: 50%;\n",
       "      cursor: pointer;\n",
       "      display: none;\n",
       "      fill: #1967D2;\n",
       "      height: 32px;\n",
       "      padding: 0 0 0 0;\n",
       "      width: 32px;\n",
       "    }\n",
       "\n",
       "    .colab-df-convert:hover {\n",
       "      background-color: #E2EBFA;\n",
       "      box-shadow: 0px 1px 2px rgba(60, 64, 67, 0.3), 0px 1px 3px 1px rgba(60, 64, 67, 0.15);\n",
       "      fill: #174EA6;\n",
       "    }\n",
       "\n",
       "    [theme=dark] .colab-df-convert {\n",
       "      background-color: #3B4455;\n",
       "      fill: #D2E3FC;\n",
       "    }\n",
       "\n",
       "    [theme=dark] .colab-df-convert:hover {\n",
       "      background-color: #434B5C;\n",
       "      box-shadow: 0px 1px 3px 1px rgba(0, 0, 0, 0.15);\n",
       "      filter: drop-shadow(0px 1px 2px rgba(0, 0, 0, 0.3));\n",
       "      fill: #FFFFFF;\n",
       "    }\n",
       "  </style>\n",
       "\n",
       "      <script>\n",
       "        const buttonEl =\n",
       "          document.querySelector('#df-bce3f8e0-349a-42ce-a0e5-dc3096b71583 button.colab-df-convert');\n",
       "        buttonEl.style.display =\n",
       "          google.colab.kernel.accessAllowed ? 'block' : 'none';\n",
       "\n",
       "        async function convertToInteractive(key) {\n",
       "          const element = document.querySelector('#df-bce3f8e0-349a-42ce-a0e5-dc3096b71583');\n",
       "          const dataTable =\n",
       "            await google.colab.kernel.invokeFunction('convertToInteractive',\n",
       "                                                     [key], {});\n",
       "          if (!dataTable) return;\n",
       "\n",
       "          const docLinkHtml = 'Like what you see? Visit the ' +\n",
       "            '<a target=\"_blank\" href=https://colab.research.google.com/notebooks/data_table.ipynb>data table notebook</a>'\n",
       "            + ' to learn more about interactive tables.';\n",
       "          element.innerHTML = '';\n",
       "          dataTable['output_type'] = 'display_data';\n",
       "          await google.colab.output.renderOutput(dataTable, element);\n",
       "          const docLink = document.createElement('div');\n",
       "          docLink.innerHTML = docLinkHtml;\n",
       "          element.appendChild(docLink);\n",
       "        }\n",
       "      </script>\n",
       "    </div>\n",
       "  </div>\n",
       "  "
      ],
      "text/plain": [
       "   Gender  Age  EstimatedSalary  Purchased\n",
       "0    Male   19            19000          0\n",
       "1    Male   35            20000          0\n",
       "2  Female   26            43000          0\n",
       "3  Female   27            57000          0\n",
       "4    Male   19            76000          0"
      ]
     },
     "execution_count": 9,
     "metadata": {},
     "output_type": "execute_result"
    }
   ],
   "source": [
    "df.head()"
   ]
  },
  {
   "cell_type": "markdown",
   "metadata": {
    "id": "Ui1lve8DDwyM"
   },
   "source": [
    "Convert gender colum to int format.\n",
    "\n",
    "Male is 0\n",
    "\n",
    "Female is 1\n"
   ]
  },
  {
   "cell_type": "code",
   "execution_count": 10,
   "metadata": {
    "colab": {
     "base_uri": "https://localhost:8080/",
     "height": 206
    },
    "id": "sqejIIgsECbF",
    "outputId": "ac66859c-d735-40de-b3c4-243affc3676c"
   },
   "outputs": [
    {
     "data": {
      "text/html": [
       "\n",
       "  <div id=\"df-94ab201a-e9b9-40d9-82a2-58d1648ac455\">\n",
       "    <div class=\"colab-df-container\">\n",
       "      <div>\n",
       "<style scoped>\n",
       "    .dataframe tbody tr th:only-of-type {\n",
       "        vertical-align: middle;\n",
       "    }\n",
       "\n",
       "    .dataframe tbody tr th {\n",
       "        vertical-align: top;\n",
       "    }\n",
       "\n",
       "    .dataframe thead th {\n",
       "        text-align: right;\n",
       "    }\n",
       "</style>\n",
       "<table border=\"1\" class=\"dataframe\">\n",
       "  <thead>\n",
       "    <tr style=\"text-align: right;\">\n",
       "      <th></th>\n",
       "      <th>Gender</th>\n",
       "      <th>Age</th>\n",
       "      <th>EstimatedSalary</th>\n",
       "      <th>Purchased</th>\n",
       "    </tr>\n",
       "  </thead>\n",
       "  <tbody>\n",
       "    <tr>\n",
       "      <th>0</th>\n",
       "      <td>0</td>\n",
       "      <td>19</td>\n",
       "      <td>19000</td>\n",
       "      <td>0</td>\n",
       "    </tr>\n",
       "    <tr>\n",
       "      <th>1</th>\n",
       "      <td>0</td>\n",
       "      <td>35</td>\n",
       "      <td>20000</td>\n",
       "      <td>0</td>\n",
       "    </tr>\n",
       "    <tr>\n",
       "      <th>2</th>\n",
       "      <td>1</td>\n",
       "      <td>26</td>\n",
       "      <td>43000</td>\n",
       "      <td>0</td>\n",
       "    </tr>\n",
       "    <tr>\n",
       "      <th>3</th>\n",
       "      <td>1</td>\n",
       "      <td>27</td>\n",
       "      <td>57000</td>\n",
       "      <td>0</td>\n",
       "    </tr>\n",
       "    <tr>\n",
       "      <th>4</th>\n",
       "      <td>0</td>\n",
       "      <td>19</td>\n",
       "      <td>76000</td>\n",
       "      <td>0</td>\n",
       "    </tr>\n",
       "  </tbody>\n",
       "</table>\n",
       "</div>\n",
       "      <button class=\"colab-df-convert\" onclick=\"convertToInteractive('df-94ab201a-e9b9-40d9-82a2-58d1648ac455')\"\n",
       "              title=\"Convert this dataframe to an interactive table.\"\n",
       "              style=\"display:none;\">\n",
       "        \n",
       "  <svg xmlns=\"http://www.w3.org/2000/svg\" height=\"24px\"viewBox=\"0 0 24 24\"\n",
       "       width=\"24px\">\n",
       "    <path d=\"M0 0h24v24H0V0z\" fill=\"none\"/>\n",
       "    <path d=\"M18.56 5.44l.94 2.06.94-2.06 2.06-.94-2.06-.94-.94-2.06-.94 2.06-2.06.94zm-11 1L8.5 8.5l.94-2.06 2.06-.94-2.06-.94L8.5 2.5l-.94 2.06-2.06.94zm10 10l.94 2.06.94-2.06 2.06-.94-2.06-.94-.94-2.06-.94 2.06-2.06.94z\"/><path d=\"M17.41 7.96l-1.37-1.37c-.4-.4-.92-.59-1.43-.59-.52 0-1.04.2-1.43.59L10.3 9.45l-7.72 7.72c-.78.78-.78 2.05 0 2.83L4 21.41c.39.39.9.59 1.41.59.51 0 1.02-.2 1.41-.59l7.78-7.78 2.81-2.81c.8-.78.8-2.07 0-2.86zM5.41 20L4 18.59l7.72-7.72 1.47 1.35L5.41 20z\"/>\n",
       "  </svg>\n",
       "      </button>\n",
       "      \n",
       "  <style>\n",
       "    .colab-df-container {\n",
       "      display:flex;\n",
       "      flex-wrap:wrap;\n",
       "      gap: 12px;\n",
       "    }\n",
       "\n",
       "    .colab-df-convert {\n",
       "      background-color: #E8F0FE;\n",
       "      border: none;\n",
       "      border-radius: 50%;\n",
       "      cursor: pointer;\n",
       "      display: none;\n",
       "      fill: #1967D2;\n",
       "      height: 32px;\n",
       "      padding: 0 0 0 0;\n",
       "      width: 32px;\n",
       "    }\n",
       "\n",
       "    .colab-df-convert:hover {\n",
       "      background-color: #E2EBFA;\n",
       "      box-shadow: 0px 1px 2px rgba(60, 64, 67, 0.3), 0px 1px 3px 1px rgba(60, 64, 67, 0.15);\n",
       "      fill: #174EA6;\n",
       "    }\n",
       "\n",
       "    [theme=dark] .colab-df-convert {\n",
       "      background-color: #3B4455;\n",
       "      fill: #D2E3FC;\n",
       "    }\n",
       "\n",
       "    [theme=dark] .colab-df-convert:hover {\n",
       "      background-color: #434B5C;\n",
       "      box-shadow: 0px 1px 3px 1px rgba(0, 0, 0, 0.15);\n",
       "      filter: drop-shadow(0px 1px 2px rgba(0, 0, 0, 0.3));\n",
       "      fill: #FFFFFF;\n",
       "    }\n",
       "  </style>\n",
       "\n",
       "      <script>\n",
       "        const buttonEl =\n",
       "          document.querySelector('#df-94ab201a-e9b9-40d9-82a2-58d1648ac455 button.colab-df-convert');\n",
       "        buttonEl.style.display =\n",
       "          google.colab.kernel.accessAllowed ? 'block' : 'none';\n",
       "\n",
       "        async function convertToInteractive(key) {\n",
       "          const element = document.querySelector('#df-94ab201a-e9b9-40d9-82a2-58d1648ac455');\n",
       "          const dataTable =\n",
       "            await google.colab.kernel.invokeFunction('convertToInteractive',\n",
       "                                                     [key], {});\n",
       "          if (!dataTable) return;\n",
       "\n",
       "          const docLinkHtml = 'Like what you see? Visit the ' +\n",
       "            '<a target=\"_blank\" href=https://colab.research.google.com/notebooks/data_table.ipynb>data table notebook</a>'\n",
       "            + ' to learn more about interactive tables.';\n",
       "          element.innerHTML = '';\n",
       "          dataTable['output_type'] = 'display_data';\n",
       "          await google.colab.output.renderOutput(dataTable, element);\n",
       "          const docLink = document.createElement('div');\n",
       "          docLink.innerHTML = docLinkHtml;\n",
       "          element.appendChild(docLink);\n",
       "        }\n",
       "      </script>\n",
       "    </div>\n",
       "  </div>\n",
       "  "
      ],
      "text/plain": [
       "   Gender  Age  EstimatedSalary  Purchased\n",
       "0       0   19            19000          0\n",
       "1       0   35            20000          0\n",
       "2       1   26            43000          0\n",
       "3       1   27            57000          0\n",
       "4       0   19            76000          0"
      ]
     },
     "execution_count": 10,
     "metadata": {},
     "output_type": "execute_result"
    }
   ],
   "source": [
    "df['Gender'] = df['Gender'].map({'Male':0 ,'Female':1})\n",
    "df.head()"
   ]
  },
  {
   "cell_type": "code",
   "execution_count": 11,
   "metadata": {
    "colab": {
     "base_uri": "https://localhost:8080/",
     "height": 722
    },
    "id": "qbyqoA9dFA03",
    "outputId": "4456de80-00c0-4012-9dd7-6a8d3e509ec1"
   },
   "outputs": [
    {
     "data": {
      "text/plain": [
       "<matplotlib.axes._subplots.AxesSubplot at 0x7f03529c4690>"
      ]
     },
     "execution_count": 11,
     "metadata": {},
     "output_type": "execute_result"
    },
    {
     "data": {
      "image/png": "[encoded data removed]",
      "text/plain": [
       "<Figure size 1152x864 with 2 Axes>"
      ]
     },
     "metadata": {
      "needs_background": "light"
     },
     "output_type": "display_data"
    }
   ],
   "source": [
    "plt.figure(figsize = (16, 12))\n",
    "sns.heatmap(df.corr(), annot = True, fmt = '.2%')"
   ]
  },
  {
   "cell_type": "markdown",
   "metadata": {
    "id": "CrofrlPSNkCm"
   },
   "source": [
    "**EDA**"
   ]
  },
  {
   "cell_type": "code",
   "execution_count": 12,
   "metadata": {
    "colab": {
     "base_uri": "https://localhost:8080/",
     "height": 387
    },
    "id": "tZ0qT7dZNpK2",
    "outputId": "ac6cd610-3c7b-407d-a7f6-4fffc9ea7e53"
   },
   "outputs": [
    {
     "data": {
      "text/plain": [
       "<seaborn.axisgrid.FacetGrid at 0x7f035241bed0>"
      ]
     },
     "execution_count": 12,
     "metadata": {},
     "output_type": "execute_result"
    },
    {
     "data": {
      "image/png": "[encoded data removed]",
      "text/plain": [
       "<Figure size 404.875x360 with 1 Axes>"
      ]
     },
     "metadata": {
      "needs_background": "light"
     },
     "output_type": "display_data"
    }
   ],
   "source": [
    "\n",
    "sns.catplot(x=\"Purchased\", y=\"EstimatedSalary\", hue=\"Gender\", kind=\"swarm\", data=df)"
   ]
  },
  {
   "cell_type": "code",
   "execution_count": 13,
   "metadata": {
    "colab": {
     "base_uri": "https://localhost:8080/",
     "height": 387
    },
    "id": "gKyh883DOWC_",
    "outputId": "f49df772-eeb2-4b95-91ea-2f543e26cd47"
   },
   "outputs": [
    {
     "data": {
      "text/plain": [
       "<seaborn.axisgrid.FacetGrid at 0x7f034f5f6610>"
      ]
     },
     "execution_count": 13,
     "metadata": {},
     "output_type": "execute_result"
    },
    {
     "data": {
      "image/png": "[encoded data removed]",
      "text/plain": [
       "<Figure size 404.875x360 with 1 Axes>"
      ]
     },
     "metadata": {
      "needs_background": "light"
     },
     "output_type": "display_data"
    }
   ],
   "source": [
    "sns.catplot(x=\"Purchased\", y=\"Age\", hue=\"Gender\", kind=\"swarm\", data=df)"
   ]
  },
  {
   "cell_type": "markdown",
   "metadata": {
    "id": "2c38s8jvFtFs"
   },
   "source": [
    "From the diagram we can tell that `Purchased` is highly correlated with `Age`. The `Estimatedsalary` has also a good correlation."
   ]
  },
  {
   "cell_type": "markdown",
   "metadata": {
    "id": "AtesY4kRJr7l"
   },
   "source": [
    "Creatting dummy variables for encoding"
   ]
  },
  {
   "cell_type": "code",
   "execution_count": 14,
   "metadata": {
    "colab": {
     "base_uri": "https://localhost:8080/"
    },
    "id": "q6D1CKnPKAcr",
    "outputId": "5e87ce49-a04c-4f79-ab9d-41bf0823dcc1"
   },
   "outputs": [
    {
     "name": "stdout",
     "output_type": "stream",
     "text": [
      "['Gender', 'Age', 'EstimatedSalary', 'Purchased']\n"
     ]
    }
   ],
   "source": [
    "b = []\n",
    "for i in df.keys():\n",
    "  b.append(i)\n",
    "print(b)"
   ]
  },
  {
   "cell_type": "code",
   "execution_count": 15,
   "metadata": {
    "id": "2YgiPN8iKCMy"
   },
   "outputs": [],
   "source": [
    "df = pd.get_dummies(df, columns = ['Gender'])"
   ]
  },
  {
   "cell_type": "code",
   "execution_count": 16,
   "metadata": {
    "colab": {
     "base_uri": "https://localhost:8080/"
    },
    "id": "W-THs4_yKJWu",
    "outputId": "a42db5bc-1de1-4894-cd7c-ec1037bda3d5"
   },
   "outputs": [
    {
     "name": "stdout",
     "output_type": "stream",
     "text": [
      "['Age', 'EstimatedSalary', 'Purchased', 'Gender_0', 'Gender_1']\n"
     ]
    }
   ],
   "source": [
    "b = []\n",
    "for i in df.keys():\n",
    "  b.append(i)\n",
    "print(b)"
   ]
  },
  {
   "cell_type": "code",
   "execution_count": 17,
   "metadata": {
    "colab": {
     "base_uri": "https://localhost:8080/",
     "height": 424
    },
    "id": "rrn_2ux-Kmls",
    "outputId": "149f3535-1131-4d5e-b746-f272c7e3315a"
   },
   "outputs": [
    {
     "data": {
      "text/html": [
       "\n",
       "  <div id=\"df-a234a8d1-b35e-4db9-9d07-8edf2ca22133\">\n",
       "    <div class=\"colab-df-container\">\n",
       "      <div>\n",
       "<style scoped>\n",
       "    .dataframe tbody tr th:only-of-type {\n",
       "        vertical-align: middle;\n",
       "    }\n",
       "\n",
       "    .dataframe tbody tr th {\n",
       "        vertical-align: top;\n",
       "    }\n",
       "\n",
       "    .dataframe thead th {\n",
       "        text-align: right;\n",
       "    }\n",
       "</style>\n",
       "<table border=\"1\" class=\"dataframe\">\n",
       "  <thead>\n",
       "    <tr style=\"text-align: right;\">\n",
       "      <th></th>\n",
       "      <th>Age</th>\n",
       "      <th>EstimatedSalary</th>\n",
       "      <th>Purchased</th>\n",
       "      <th>Gender_0</th>\n",
       "      <th>Gender_1</th>\n",
       "    </tr>\n",
       "  </thead>\n",
       "  <tbody>\n",
       "    <tr>\n",
       "      <th>0</th>\n",
       "      <td>19</td>\n",
       "      <td>19000</td>\n",
       "      <td>0</td>\n",
       "      <td>1</td>\n",
       "      <td>0</td>\n",
       "    </tr>\n",
       "    <tr>\n",
       "      <th>1</th>\n",
       "      <td>35</td>\n",
       "      <td>20000</td>\n",
       "      <td>0</td>\n",
       "      <td>1</td>\n",
       "      <td>0</td>\n",
       "    </tr>\n",
       "    <tr>\n",
       "      <th>2</th>\n",
       "      <td>26</td>\n",
       "      <td>43000</td>\n",
       "      <td>0</td>\n",
       "      <td>0</td>\n",
       "      <td>1</td>\n",
       "    </tr>\n",
       "    <tr>\n",
       "      <th>3</th>\n",
       "      <td>27</td>\n",
       "      <td>57000</td>\n",
       "      <td>0</td>\n",
       "      <td>0</td>\n",
       "      <td>1</td>\n",
       "    </tr>\n",
       "    <tr>\n",
       "      <th>4</th>\n",
       "      <td>19</td>\n",
       "      <td>76000</td>\n",
       "      <td>0</td>\n",
       "      <td>1</td>\n",
       "      <td>0</td>\n",
       "    </tr>\n",
       "    <tr>\n",
       "      <th>...</th>\n",
       "      <td>...</td>\n",
       "      <td>...</td>\n",
       "      <td>...</td>\n",
       "      <td>...</td>\n",
       "      <td>...</td>\n",
       "    </tr>\n",
       "    <tr>\n",
       "      <th>395</th>\n",
       "      <td>46</td>\n",
       "      <td>41000</td>\n",
       "      <td>1</td>\n",
       "      <td>0</td>\n",
       "      <td>1</td>\n",
       "    </tr>\n",
       "    <tr>\n",
       "      <th>396</th>\n",
       "      <td>51</td>\n",
       "      <td>23000</td>\n",
       "      <td>1</td>\n",
       "      <td>1</td>\n",
       "      <td>0</td>\n",
       "    </tr>\n",
       "    <tr>\n",
       "      <th>397</th>\n",
       "      <td>50</td>\n",
       "      <td>20000</td>\n",
       "      <td>1</td>\n",
       "      <td>0</td>\n",
       "      <td>1</td>\n",
       "    </tr>\n",
       "    <tr>\n",
       "      <th>398</th>\n",
       "      <td>36</td>\n",
       "      <td>33000</td>\n",
       "      <td>0</td>\n",
       "      <td>1</td>\n",
       "      <td>0</td>\n",
       "    </tr>\n",
       "    <tr>\n",
       "      <th>399</th>\n",
       "      <td>49</td>\n",
       "      <td>36000</td>\n",
       "      <td>1</td>\n",
       "      <td>0</td>\n",
       "      <td>1</td>\n",
       "    </tr>\n",
       "  </tbody>\n",
       "</table>\n",
       "<p>400 rows × 5 columns</p>\n",
       "</div>\n",
       "      <button class=\"colab-df-convert\" onclick=\"convertToInteractive('df-a234a8d1-b35e-4db9-9d07-8edf2ca22133')\"\n",
       "              title=\"Convert this dataframe to an interactive table.\"\n",
       "              style=\"display:none;\">\n",
       "        \n",
       "  <svg xmlns=\"http://www.w3.org/2000/svg\" height=\"24px\"viewBox=\"0 0 24 24\"\n",
       "       width=\"24px\">\n",
       "    <path d=\"M0 0h24v24H0V0z\" fill=\"none\"/>\n",
       "    <path d=\"M18.56 5.44l.94 2.06.94-2.06 2.06-.94-2.06-.94-.94-2.06-.94 2.06-2.06.94zm-11 1L8.5 8.5l.94-2.06 2.06-.94-2.06-.94L8.5 2.5l-.94 2.06-2.06.94zm10 10l.94 2.06.94-2.06 2.06-.94-2.06-.94-.94-2.06-.94 2.06-2.06.94z\"/><path d=\"M17.41 7.96l-1.37-1.37c-.4-.4-.92-.59-1.43-.59-.52 0-1.04.2-1.43.59L10.3 9.45l-7.72 7.72c-.78.78-.78 2.05 0 2.83L4 21.41c.39.39.9.59 1.41.59.51 0 1.02-.2 1.41-.59l7.78-7.78 2.81-2.81c.8-.78.8-2.07 0-2.86zM5.41 20L4 18.59l7.72-7.72 1.47 1.35L5.41 20z\"/>\n",
       "  </svg>\n",
       "      </button>\n",
       "      \n",
       "  <style>\n",
       "    .colab-df-container {\n",
       "      display:flex;\n",
       "      flex-wrap:wrap;\n",
       "      gap: 12px;\n",
       "    }\n",
       "\n",
       "    .colab-df-convert {\n",
       "      background-color: #E8F0FE;\n",
       "      border: none;\n",
       "      border-radius: 50%;\n",
       "      cursor: pointer;\n",
       "      display: none;\n",
       "      fill: #1967D2;\n",
       "      height: 32px;\n",
       "      padding: 0 0 0 0;\n",
       "      width: 32px;\n",
       "    }\n",
       "\n",
       "    .colab-df-convert:hover {\n",
       "      background-color: #E2EBFA;\n",
       "      box-shadow: 0px 1px 2px rgba(60, 64, 67, 0.3), 0px 1px 3px 1px rgba(60, 64, 67, 0.15);\n",
       "      fill: #174EA6;\n",
       "    }\n",
       "\n",
       "    [theme=dark] .colab-df-convert {\n",
       "      background-color: #3B4455;\n",
       "      fill: #D2E3FC;\n",
       "    }\n",
       "\n",
       "    [theme=dark] .colab-df-convert:hover {\n",
       "      background-color: #434B5C;\n",
       "      box-shadow: 0px 1px 3px 1px rgba(0, 0, 0, 0.15);\n",
       "      filter: drop-shadow(0px 1px 2px rgba(0, 0, 0, 0.3));\n",
       "      fill: #FFFFFF;\n",
       "    }\n",
       "  </style>\n",
       "\n",
       "      <script>\n",
       "        const buttonEl =\n",
       "          document.querySelector('#df-a234a8d1-b35e-4db9-9d07-8edf2ca22133 button.colab-df-convert');\n",
       "        buttonEl.style.display =\n",
       "          google.colab.kernel.accessAllowed ? 'block' : 'none';\n",
       "\n",
       "        async function convertToInteractive(key) {\n",
       "          const element = document.querySelector('#df-a234a8d1-b35e-4db9-9d07-8edf2ca22133');\n",
       "          const dataTable =\n",
       "            await google.colab.kernel.invokeFunction('convertToInteractive',\n",
       "                                                     [key], {});\n",
       "          if (!dataTable) return;\n",
       "\n",
       "          const docLinkHtml = 'Like what you see? Visit the ' +\n",
       "            '<a target=\"_blank\" href=https://colab.research.google.com/notebooks/data_table.ipynb>data table notebook</a>'\n",
       "            + ' to learn more about interactive tables.';\n",
       "          element.innerHTML = '';\n",
       "          dataTable['output_type'] = 'display_data';\n",
       "          await google.colab.output.renderOutput(dataTable, element);\n",
       "          const docLink = document.createElement('div');\n",
       "          docLink.innerHTML = docLinkHtml;\n",
       "          element.appendChild(docLink);\n",
       "        }\n",
       "      </script>\n",
       "    </div>\n",
       "  </div>\n",
       "  "
      ],
      "text/plain": [
       "     Age  EstimatedSalary  Purchased  Gender_0  Gender_1\n",
       "0     19            19000          0         1         0\n",
       "1     35            20000          0         1         0\n",
       "2     26            43000          0         0         1\n",
       "3     27            57000          0         0         1\n",
       "4     19            76000          0         1         0\n",
       "..   ...              ...        ...       ...       ...\n",
       "395   46            41000          1         0         1\n",
       "396   51            23000          1         1         0\n",
       "397   50            20000          1         0         1\n",
       "398   36            33000          0         1         0\n",
       "399   49            36000          1         0         1\n",
       "\n",
       "[400 rows x 5 columns]"
      ]
     },
     "execution_count": 17,
     "metadata": {},
     "output_type": "execute_result"
    }
   ],
   "source": [
    "df"
   ]
  },
  {
   "cell_type": "markdown",
   "metadata": {
    "id": "BWpz-G_KgaB5"
   },
   "source": [
    "**Fitting Random Forest to the Training set**"
   ]
  },
  {
   "cell_type": "markdown",
   "metadata": {
    "id": "eHCKYPHylT5K"
   },
   "source": [
    "**Splitting the dataset into the Training set and Test set**"
   ]
  },
  {
   "cell_type": "code",
   "execution_count": 18,
   "metadata": {
    "id": "o9msgi0sj72h"
   },
   "outputs": [],
   "source": [
    "b.remove('Purchased')"
   ]
  },
  {
   "cell_type": "code",
   "execution_count": 19,
   "metadata": {
    "colab": {
     "base_uri": "https://localhost:8080/"
    },
    "id": "Z11plv-bPJ3X",
    "outputId": "272e726c-59c3-4582-c763-db95fe6fcb07"
   },
   "outputs": [
    {
     "data": {
      "text/plain": [
       "['Age', 'EstimatedSalary', 'Gender_0', 'Gender_1']"
      ]
     },
     "execution_count": 19,
     "metadata": {},
     "output_type": "execute_result"
    }
   ],
   "source": [
    "b"
   ]
  },
  {
   "cell_type": "code",
   "execution_count": 20,
   "metadata": {
    "id": "kI-Oyn_1PMRM"
   },
   "outputs": [],
   "source": [
    "X = df[b].values#array of features\n",
    "y = df['Purchased'].values"
   ]
  },
  {
   "cell_type": "code",
   "execution_count": 21,
   "metadata": {
    "colab": {
     "base_uri": "https://localhost:8080/"
    },
    "id": "4HS6sb6mi1Bk",
    "outputId": "fde7d761-550e-410f-bc34-3a50345dae44"
   },
   "outputs": [
    {
     "data": {
      "text/plain": [
       "array([[   19, 19000,     1,     0],\n",
       "       [   35, 20000,     1,     0],\n",
       "       [   26, 43000,     0,     1],\n",
       "       ...,\n",
       "       [   50, 20000,     0,     1],\n",
       "       [   36, 33000,     1,     0],\n",
       "       [   49, 36000,     0,     1]])"
      ]
     },
     "execution_count": 21,
     "metadata": {},
     "output_type": "execute_result"
    }
   ],
   "source": [
    "X"
   ]
  },
  {
   "cell_type": "code",
   "execution_count": 22,
   "metadata": {
    "id": "5vwPKdFtPUOn"
   },
   "outputs": [],
   "source": [
    "from sklearn.model_selection import train_test_split\n",
    "X_train, X_test, y_train, y_test = train_test_split(X, y, test_size=0.2, random_state=10)"
   ]
  },
  {
   "cell_type": "markdown",
   "metadata": {
    "id": "AsfmGeH6lZ0O"
   },
   "source": [
    "**Feature Scaling**"
   ]
  },
  {
   "cell_type": "code",
   "execution_count": 23,
   "metadata": {
    "id": "Xfifr6tlj77A"
   },
   "outputs": [],
   "source": [
    "from sklearn.preprocessing import StandardScaler ## standrard scalig \n",
    "scaler = StandardScaler() #initialise to a variable\n",
    "scaler.fit(X_train,y_train) # we are finding the values of mean and sd from the td\n",
    "X_train_scaled = scaler.transform(X_train) # fit (mean, sd) and then transform the training data\n",
    "X_test_scaled = scaler.transform(X_test) # transform the test data "
   ]
  },
  {
   "cell_type": "markdown",
   "metadata": {
    "id": "gCgTI6mAYIF-"
   },
   "source": [
    "**Fitting the Random Forest model**"
   ]
  },
  {
   "cell_type": "code",
   "execution_count": 24,
   "metadata": {
    "colab": {
     "base_uri": "https://localhost:8080/"
    },
    "id": "ik6scJWniP-z",
    "outputId": "f64608ae-144f-45ba-ddd4-04ae1dbd32bc"
   },
   "outputs": [
    {
     "data": {
      "text/plain": [
       "0.6875"
      ]
     },
     "execution_count": 24,
     "metadata": {},
     "output_type": "execute_result"
    }
   ],
   "source": [
    "# Import the model we are using\n",
    "from sklearn.ensemble import RandomForestClassifier\n",
    "from sklearn.metrics import r2_score\n",
    "\n",
    "# Instantiate model \n",
    "rf = RandomForestClassifier(max_depth=2,n_estimators=20,random_state=10)\n",
    "\n",
    "# Train the model on training data\n",
    "rf.fit(X_train_scaled, y_train)\n",
    "\n",
    "# Use the forest's predict method on the test data\n",
    "y_pred = rf.predict(X_test_scaled)\n",
    "\n",
    "# # Calculate the absolute errors\n",
    "# errors = abs(predictions - original_test_labels)\n",
    "\n",
    "# # Print out the mean absolute error (mae)\n",
    "# print('MAE :', round(np.mean(errors), 2), 'degrees.')\n",
    "\n",
    "# Compare to baseline\n",
    "# improvement_baseline = 100 * abs(np.mean(errors) - np.mean(baseline_errors)) / np.mean(baseline_errors)\n",
    "# print('Improvement over baseline:', round(improvement_baseline, 2), '%.')\n",
    "\n",
    "#r2_score(baseline_preds, original_test_labels)\n",
    "r2_score(y_pred, y_test)"
   ]
  },
  {
   "cell_type": "code",
   "execution_count": 25,
   "metadata": {
    "colab": {
     "base_uri": "https://localhost:8080/"
    },
    "id": "ZY5m-S_u2X-w",
    "outputId": "f9f403f4-6542-497b-898e-4b8c99628780"
   },
   "outputs": [
    {
     "name": "stdout",
     "output_type": "stream",
     "text": [
      "Train data score is : 90.9375\n"
     ]
    }
   ],
   "source": [
    "training_score = rf.score(X_train_scaled,y_train)*100\n",
    "print(\"Train data score is :\",training_score)"
   ]
  },
  {
   "cell_type": "code",
   "execution_count": 26,
   "metadata": {
    "id": "6FP7ph5Z3FSz"
   },
   "outputs": [],
   "source": [
    "from sklearn.metrics import RocCurveDisplay"
   ]
  },
  {
   "cell_type": "code",
   "execution_count": 27,
   "metadata": {
    "colab": {
     "base_uri": "https://localhost:8080/",
     "height": 297
    },
    "id": "YeQ-wlK73HeL",
    "outputId": "1772d415-9853-4a72-cd1b-f9f8ab0385af"
   },
   "outputs": [
    {
     "data": {
      "text/plain": [
       "<sklearn.metrics._plot.roc_curve.RocCurveDisplay at 0x7f034f2a4c50>"
      ]
     },
     "execution_count": 27,
     "metadata": {},
     "output_type": "execute_result"
    },
    {
     "data": {
      "image/png": "[encoded data removed]",
      "text/plain": [
       "<Figure size 432x288 with 1 Axes>"
      ]
     },
     "metadata": {
      "needs_background": "light"
     },
     "output_type": "display_data"
    }
   ],
   "source": [
    "RocCurveDisplay.from_estimator(rf,X_train_scaled,y_train)"
   ]
  },
  {
   "cell_type": "markdown",
   "metadata": {
    "id": "h0kn3GYVsjmM"
   },
   "source": [
    "Here we have 94% of accuracy."
   ]
  },
  {
   "cell_type": "code",
   "execution_count": 37,
   "metadata": {
    "colab": {
     "base_uri": "https://localhost:8080/"
    },
    "id": "TUkPBG4e4dGo",
    "outputId": "fa2ff43a-e38c-409a-9eca-c5341e35f061"
   },
   "outputs": [
    {
     "data": {
      "text/plain": [
       "0.8999999999999999"
      ]
     },
     "execution_count": 37,
     "metadata": {},
     "output_type": "execute_result"
    }
   ],
   "source": [
    "from sklearn.metrics import plot_roc_curve, roc_curve, roc_auc_score, confusion_matrix, f1_score\n",
    "#logistic_regression.score(X_test,y_test) # accuracy\n",
    "#confusion_matrix(y_test,y_pred)\n",
    "f1_score(y_test,y_pred)\n",
    "#logistic_regression.score(X_test,y_test)\n",
    "# rf.roc_auc_score(y_test, y_pred)\n"
   ]
  },
  {
   "cell_type": "code",
   "execution_count": 38,
   "metadata": {
    "colab": {
     "base_uri": "https://localhost:8080/"
    },
    "id": "4YkH_iFR-Pfq",
    "outputId": "310b0faa-ead5-4b26-d182-f0f3a46eef29"
   },
   "outputs": [
    {
     "data": {
      "text/plain": [
       "array([[47,  5],\n",
       "       [ 1, 27]])"
      ]
     },
     "execution_count": 38,
     "metadata": {},
     "output_type": "execute_result"
    }
   ],
   "source": [
    "confusion_matrix(y_test,y_pred)"
   ]
  },
  {
   "cell_type": "code",
   "execution_count": 40,
   "metadata": {
    "colab": {
     "base_uri": "https://localhost:8080/",
     "height": 297
    },
    "id": "WGJx7tYJ-vnD",
    "outputId": "571c80f2-73c1-47ca-89cf-cd7bd70a3bbd"
   },
   "outputs": [
    {
     "data": {
      "text/plain": [
       "<matplotlib.axes._subplots.AxesSubplot at 0x7f034e30e7d0>"
      ]
     },
     "execution_count": 40,
     "metadata": {},
     "output_type": "execute_result"
    },
    {
     "data": {
      "image/png": "[encoded data removed]",
      "text/plain": [
       "<Figure size 432x288 with 2 Axes>"
      ]
     },
     "metadata": {
      "needs_background": "light"
     },
     "output_type": "display_data"
    }
   ],
   "source": [
    "confusion_matrix = pd.crosstab(y_test, y_pred, rownames=['Actual'], colnames=['Predicted'])\n",
    "sns.heatmap(confusion_matrix, annot=True)"
   ]
  },
  {
   "cell_type": "markdown",
   "metadata": {
    "id": "YV4HSU4WiaUQ"
   },
   "source": [
    "# Interpret Model Results"
   ]
  },
  {
   "cell_type": "code",
   "execution_count": 28,
   "metadata": {
    "id": "kWAiLsut2MY3"
   },
   "outputs": [],
   "source": [
    "from sklearn import tree"
   ]
  },
  {
   "cell_type": "code",
   "execution_count": 29,
   "metadata": {
    "id": "B6vkYkK3icNP"
   },
   "outputs": [],
   "source": [
    "from sklearn.tree import export_graphviz\n",
    "import pydot\n",
    "\n",
    "# Pull out one tree from the forest\n",
    "tree = rf.estimators_[5]\n",
    "\n",
    "# Export the image to a dot file\n",
    "export_graphviz(tree, out_file = 'tree.dot', feature_names = b, rounded = True, precision = 1)\n",
    "\n",
    "# Use dot file to create a graph\n",
    "(graph, ) = pydot.graph_from_dot_file('tree.dot')\n",
    "\n",
    "# Write graph to a png file\n",
    "graph.write_png('tree.png');"
   ]
  },
  {
   "cell_type": "code",
   "execution_count": 30,
   "metadata": {
    "colab": {
     "base_uri": "https://localhost:8080/"
    },
    "id": "60tIEyPXi5IT",
    "outputId": "e4dd2dd9-d6da-4681-fafe-786392ddb42a"
   },
   "outputs": [
    {
     "name": "stdout",
     "output_type": "stream",
     "text": [
      "The depth of this tree is: 2\n"
     ]
    }
   ],
   "source": [
    "print('The depth of this tree is:', tree.tree_.max_depth)"
   ]
  },
  {
   "cell_type": "code",
   "execution_count": 31,
   "metadata": {
    "id": "dh3wF-cTi7qt"
   },
   "outputs": [],
   "source": [
    "# Limit depth of tree to 2 levels\n",
    "rf_small = RandomForestClassifier(n_estimators=20, max_depth = 2, random_state=42)\n",
    "rf_small.fit(X_train, y_train)\n",
    "\n",
    "# Extract the small tree\n",
    "tree_small = rf_small.estimators_[5]\n",
    "\n",
    "# Save the tree as a png image\n",
    "export_graphviz(tree_small, out_file = 'small_tree.dot', feature_names = b, rounded = True, precision = 1)\n",
    "\n",
    "(graph, ) = pydot.graph_from_dot_file('small_tree.dot')\n",
    "\n",
    "graph.write_png('small_tree.png');"
   ]
  },
  {
   "cell_type": "markdown",
   "metadata": {
    "id": "PuHWbggRqLiq"
   },
   "source": [
    "![tree.png](data:image/png;base64,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)"
   ]
  },
  {
   "cell_type": "markdown",
   "metadata": {
    "id": "yhUtbce0jnO3"
   },
   "source": [
    "# Variable Importances"
   ]
  },
  {
   "cell_type": "code",
   "execution_count": 32,
   "metadata": {
    "colab": {
     "base_uri": "https://localhost:8080/"
    },
    "id": "hdbdpAXkjqHU",
    "outputId": "0ddcc9ce-67fc-462d-ccba-0c2ff45431be"
   },
   "outputs": [
    {
     "name": "stdout",
     "output_type": "stream",
     "text": [
      "Variable: Age                  Importance: 0.66\n",
      "Variable: EstimatedSalary      Importance: 0.33\n",
      "Variable: Gender_0             Importance: 0.0\n",
      "Variable: Gender_1             Importance: 0.0\n"
     ]
    }
   ],
   "source": [
    "\n",
    "# Get numerical feature importances\n",
    "importances = list(rf.feature_importances_)\n",
    "\n",
    "# List of tuples with variable and importance\n",
    "feature_importances = [(feature, round(importance, 2)) for feature, importance in zip(b, importances)]\n",
    "\n",
    "# Sort the feature importances by most important first\n",
    "feature_importances = sorted(feature_importances, key = lambda x: x[1], reverse = True)\n",
    "\n",
    "# Print out the feature and importances \n",
    "[print('Variable: {:20} Importance: {}'.format(*pair)) for pair in feature_importances];\n"
   ]
  },
  {
   "cell_type": "markdown",
   "metadata": {
    "id": "y0p0XQeMr_rO"
   },
   "source": [
    "That is, gender has no importance."
   ]
  }
 ],
 "metadata": {
  "colab": {
   "include_colab_link": true,
   "name": "Assignment16Random_Forest_.ipynb",
   "provenance": []
  },
  "kernelspec": {
   "display_name": "Python 3 (ipykernel)",
   "language": "python",
   "name": "python3"
  },
  "language_info": {
   "codemirror_mode": {
    "name": "ipython",
    "version": 3
   },
   "file_extension": ".py",
   "mimetype": "text/x-python",
   "name": "python",
   "nbconvert_exporter": "python",
   "pygments_lexer": "ipython3",
   "version": "3.9.7"
  }
 },
 "nbformat": 4,
 "nbformat_minor": 1
}
